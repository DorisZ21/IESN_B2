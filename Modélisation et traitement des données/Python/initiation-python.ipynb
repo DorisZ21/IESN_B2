{
 "cells": [
  {
   "cell_type": "markdown",
   "id": "e92ff596",
   "metadata": {
    "slideshow": {
     "slide_type": "slide"
    }
   },
   "source": [
    "# Modélisation et traitement des données\n",
    "### Septembre 2024"
   ]
  },
  {
   "cell_type": "markdown",
   "id": "81d7ab93",
   "metadata": {
    "slideshow": {
     "slide_type": "slide"
    }
   },
   "source": [
    "## Python c'est quoi?\n",
    "Langage de programmation\n",
    "* Interprété et Orienté Objet\n",
    "* Open Source (gratuit!!)\n",
    "* Très populaire dans le monde du travail"
   ]
  },
  {
   "cell_type": "markdown",
   "id": "c422a49c",
   "metadata": {
    "slideshow": {
     "slide_type": "slide"
    }
   },
   "source": [
    "# Premiers pas"
   ]
  },
  {
   "cell_type": "code",
   "execution_count": null,
   "id": "d8a2d777",
   "metadata": {
    "slideshow": {
     "slide_type": "-"
    }
   },
   "outputs": [],
   "source": [
    "print(\"Hello, World!\")"
   ]
  },
  {
   "cell_type": "code",
   "execution_count": null,
   "id": "eda1e3ea",
   "metadata": {
    "slideshow": {
     "slide_type": "subslide"
    }
   },
   "outputs": [],
   "source": [
    "a = 3\n",
    "# Ceci est un commentaire\n",
    "a = a + 3\n",
    "b = a - 2\n",
    "print(\"a =\", a, \"et b =\",b)"
   ]
  },
  {
   "cell_type": "markdown",
   "id": "b8fa2924",
   "metadata": {
    "slideshow": {
     "slide_type": "slide"
    }
   },
   "source": [
    "# Instructions de base"
   ]
  },
  {
   "cell_type": "markdown",
   "id": "748d8767",
   "metadata": {
    "slideshow": {
     "slide_type": "slide"
    }
   },
   "source": [
    "# Structures conditionnelles"
   ]
  },
  {
   "cell_type": "code",
   "execution_count": null,
   "id": "ba0bb715",
   "metadata": {},
   "outputs": [],
   "source": [
    "if a > 0:\n",
    "    print(\"a est positif\")\n",
    "elif a < 0:\n",
    "    print(\"a est négatif\")\n",
    "else:\n",
    "    print(\"a est nul\")"
   ]
  },
  {
   "cell_type": "markdown",
   "id": "4097596d",
   "metadata": {
    "slideshow": {
     "slide_type": "slide"
    }
   },
   "source": [
    "# Opérateurs logiques"
   ]
  },
  {
   "cell_type": "code",
   "execution_count": null,
   "id": "360cdcad",
   "metadata": {},
   "outputs": [],
   "source": [
    "if a >= 2 and a <= 8:\n",
    "    print(\"a est dans l'intervalle\")\n",
    "    \n",
    "if a < 2 or a > 8:\n",
    "    print(\"a n'est pas dans l'intervalle\")"
   ]
  },
  {
   "cell_type": "markdown",
   "id": "0db13777",
   "metadata": {
    "slideshow": {
     "slide_type": "slide"
    }
   },
   "source": [
    "# Boucles et itérations"
   ]
  },
  {
   "cell_type": "code",
   "execution_count": null,
   "id": "acf214d6",
   "metadata": {},
   "outputs": [],
   "source": [
    "n = 4\n",
    "i = 0\n",
    "while i < 10:\n",
    "    print(i, \"*\", n, \"=\", i*n)\n",
    "    i = i+1"
   ]
  },
  {
   "cell_type": "code",
   "execution_count": null,
   "id": "fba0126b",
   "metadata": {
    "slideshow": {
     "slide_type": "subslide"
    }
   },
   "outputs": [],
   "source": [
    "for i in range(14,4,-2):\n",
    "    print(i)"
   ]
  },
  {
   "cell_type": "code",
   "execution_count": 115,
   "id": "c8ffe2bb",
   "metadata": {},
   "outputs": [
    {
     "name": "stdout",
     "output_type": "stream",
     "text": [
      "0\n",
      "1\n",
      "2\n",
      "3\n"
     ]
    }
   ],
   "source": [
    "for i in range(4):\n",
    "    print(i)"
   ]
  },
  {
   "cell_type": "code",
   "execution_count": null,
   "id": "54f63ea7",
   "metadata": {
    "slideshow": {
     "slide_type": "subslide"
    }
   },
   "outputs": [],
   "source": [
    "phrase = \"Python > salut\"\n",
    "for c in phrase:\n",
    "    print(c)"
   ]
  },
  {
   "cell_type": "markdown",
   "id": "3c10b98d",
   "metadata": {
    "slideshow": {
     "slide_type": "slide"
    }
   },
   "source": [
    "# Fonctions\n",
    "##### Comment définir et utiliser des fonctions en python ?"
   ]
  },
  {
   "cell_type": "code",
   "execution_count": 55,
   "id": "2484677b",
   "metadata": {},
   "outputs": [],
   "source": [
    "def divisionEntierePar2(nb):\n",
    "    if nb % 2 == 0:\n",
    "        return nb/2        \n",
    "    else:\n",
    "        return nb//2"
   ]
  },
  {
   "cell_type": "code",
   "execution_count": null,
   "id": "a40a7252",
   "metadata": {},
   "outputs": [],
   "source": [
    "divisionEntierePar2(5)"
   ]
  },
  {
   "cell_type": "markdown",
   "id": "b8714ac2",
   "metadata": {
    "slideshow": {
     "slide_type": "subslide"
    }
   },
   "source": [
    "On peut retourner plusieurs résultats"
   ]
  },
  {
   "cell_type": "code",
   "execution_count": 35,
   "id": "47913194",
   "metadata": {},
   "outputs": [],
   "source": [
    "def minmax(a,b):\n",
    "    return min(a,b), max(a,b)"
   ]
  },
  {
   "cell_type": "code",
   "execution_count": null,
   "id": "5117d5ed",
   "metadata": {},
   "outputs": [],
   "source": [
    "minmax(2,1)"
   ]
  },
  {
   "cell_type": "code",
   "execution_count": null,
   "id": "1614c35d",
   "metadata": {},
   "outputs": [],
   "source": [
    "a, b = minmax(4,3)\n",
    "a, b"
   ]
  },
  {
   "cell_type": "markdown",
   "id": "0f51ad1d",
   "metadata": {
    "slideshow": {
     "slide_type": "slide"
    }
   },
   "source": [
    "# Modules et espaces de noms"
   ]
  },
  {
   "cell_type": "code",
   "execution_count": 38,
   "id": "7b1e9f17",
   "metadata": {},
   "outputs": [],
   "source": [
    "# chargement d'une librairie\n",
    "import math"
   ]
  },
  {
   "cell_type": "code",
   "execution_count": 39,
   "id": "c4740d7a",
   "metadata": {},
   "outputs": [],
   "source": [
    "# chargement et changement de nom\n",
    "import numpy as np"
   ]
  },
  {
   "cell_type": "code",
   "execution_count": null,
   "id": "25ee43ed",
   "metadata": {},
   "outputs": [],
   "source": [
    "#avant l'import il faut utiliser math.fonction, \n",
    "#après l'import on peut utiliser directement la fonction\n",
    "\n",
    "# importation d'une fonction spécifique\n",
    "from math import fabs\n",
    "x = -33.7\n",
    "print (\"The fabs of\", x, \"is : \", fabs(x))"
   ]
  },
  {
   "cell_type": "markdown",
   "id": "714ed6bd",
   "metadata": {
    "slideshow": {
     "slide_type": "slide"
    }
   },
   "source": [
    "# Structures de données"
   ]
  },
  {
   "cell_type": "markdown",
   "id": "5107d196",
   "metadata": {
    "slideshow": {
     "slide_type": "slide"
    }
   },
   "source": [
    "# Chaînes de caractères"
   ]
  },
  {
   "cell_type": "code",
   "execution_count": 41,
   "id": "cb3c7fc2",
   "metadata": {},
   "outputs": [],
   "source": [
    "s = \"HELLO WORLD\""
   ]
  },
  {
   "cell_type": "code",
   "execution_count": null,
   "id": "8257c63b",
   "metadata": {},
   "outputs": [],
   "source": [
    "s.lower()"
   ]
  },
  {
   "cell_type": "code",
   "execution_count": null,
   "id": "265c8079",
   "metadata": {},
   "outputs": [],
   "source": [
    "# En python, les indices des tableaux commencent à 0\n",
    "s[0]"
   ]
  },
  {
   "cell_type": "code",
   "execution_count": null,
   "id": "c0f48fb7",
   "metadata": {},
   "outputs": [],
   "source": [
    "s[1]"
   ]
  },
  {
   "cell_type": "code",
   "execution_count": null,
   "id": "77368e1e",
   "metadata": {},
   "outputs": [],
   "source": [
    "#affiche le dernier élément de la chaine de caractère\n",
    "s[-1]"
   ]
  },
  {
   "cell_type": "code",
   "execution_count": null,
   "id": "e7cc3d1d",
   "metadata": {},
   "outputs": [],
   "source": [
    "#affiche le troisième élément en partant de la fin de la chaine de caractère\n",
    "s[-3]"
   ]
  },
  {
   "cell_type": "markdown",
   "id": "03376750",
   "metadata": {
    "slideshow": {
     "slide_type": "slide"
    }
   },
   "source": [
    "# Listes\n",
    "\n",
    "##### Les listes en python sont une variable dans laquelle on peut mettre plusieurs variables, potentiellement de types différents"
   ]
  },
  {
   "cell_type": "code",
   "execution_count": 1,
   "id": "d2c86b25",
   "metadata": {},
   "outputs": [
    {
     "name": "stdout",
     "output_type": "stream",
     "text": [
      "[1, 3.5, 'c', 'toto', [], 42]\n"
     ]
    },
    {
     "data": {
      "text/plain": [
       "[1, 3.5, 'toto', [], 42]"
      ]
     },
     "execution_count": 1,
     "metadata": {},
     "output_type": "execute_result"
    }
   ],
   "source": [
    "maListe = [1, 3.5, \"toto\", []]\n",
    "maListe.append(42) #ajoute à la fin\n",
    "maListe.insert(2, 'c') #ajoute à la position spécifiée\n",
    "print(maListe)\n",
    "maListe.pop(2) #enlève l'élément à la position spécifiée\n",
    "maListe"
   ]
  },
  {
   "cell_type": "markdown",
   "id": "05d01f41",
   "metadata": {},
   "source": [
    "On pourra créer des matrices à l'aide des listes. Mais attention, les indices commencent à 0 en python"
   ]
  },
  {
   "cell_type": "code",
   "execution_count": 3,
   "id": "256fa207",
   "metadata": {},
   "outputs": [
    {
     "name": "stdout",
     "output_type": "stream",
     "text": [
      "[[1, 2, 3], [4, 5, 6]]\n"
     ]
    },
    {
     "data": {
      "text/plain": [
       "[1, 2, 3]"
      ]
     },
     "execution_count": 3,
     "metadata": {},
     "output_type": "execute_result"
    }
   ],
   "source": [
    "maMatrice = [[1,2,3], [4,5,6]]\n",
    "print(maMatrice)\n",
    "maMatrice[0]"
   ]
  },
  {
   "cell_type": "code",
   "execution_count": 4,
   "id": "573e5861",
   "metadata": {},
   "outputs": [
    {
     "name": "stdout",
     "output_type": "stream",
     "text": [
      "1 6\n",
      "[[1, 2, 3], [4, 5, 6], [1, 2, 3], [4, 5, 6]]\n"
     ]
    }
   ],
   "source": [
    "element11 = maMatrice[0][0]\n",
    "element23 = maMatrice[-1][-1]\n",
    "print(element11, element23)\n",
    "elem = maMatrice + maMatrice #les opérations usuelles en termes de matrices ne sont pas possibles avec les listes\n",
    "print(elem)"
   ]
  },
  {
   "cell_type": "code",
   "execution_count": 114,
   "id": "de12df55",
   "metadata": {},
   "outputs": [
    {
     "data": {
      "text/plain": [
       "(2, 3)"
      ]
     },
     "execution_count": 114,
     "metadata": {},
     "output_type": "execute_result"
    }
   ],
   "source": [
    "n=len(maMatrice) # nombre de lignes\n",
    "m=len(maMatrice[0]) # nombre de colonnes\n",
    "n,m"
   ]
  },
  {
   "cell_type": "markdown",
   "id": "e9689c38",
   "metadata": {
    "slideshow": {
     "slide_type": "subslide"
    }
   },
   "source": [
    "# Compréhensions de liste\n"
   ]
  },
  {
   "cell_type": "markdown",
   "id": "57dc0241",
   "metadata": {},
   "source": [
    "Une compréhension de liste est une expression compacte pour construire une nouvelle liste en appliquant une fonction à chaque élément d'une autre liste ou d'un autre itérable.\n",
    "\n",
    "La syntaxe générale d'une compréhension de liste est la suivante : [expression for item in iterable if condition]"
   ]
  },
  {
   "cell_type": "code",
   "execution_count": null,
   "id": "7a55703b",
   "metadata": {
    "slideshow": {
     "slide_type": "-"
    }
   },
   "outputs": [],
   "source": [
    "[divisionEntierePar2(n) for n in range(1,10)]"
   ]
  },
  {
   "cell_type": "code",
   "execution_count": 118,
   "id": "cd6f438f",
   "metadata": {},
   "outputs": [
    {
     "data": {
      "text/plain": [
       "[1, 4, 5, 8, 9]"
      ]
     },
     "execution_count": 118,
     "metadata": {},
     "output_type": "execute_result"
    }
   ],
   "source": [
    "# compréhension avec condition\n",
    "maNouvelleListe = [n for n in range(1,10) if divisionEntierePar2(n) % 2 == 0]\n",
    "maNouvelleListe"
   ]
  },
  {
   "cell_type": "markdown",
   "id": "7cc1ea0f",
   "metadata": {
    "slideshow": {
     "slide_type": "subslide"
    }
   },
   "source": [
    "# Itération sur une liste"
   ]
  },
  {
   "cell_type": "code",
   "execution_count": 3,
   "id": "6a4464fe",
   "metadata": {},
   "outputs": [
    {
     "ename": "NameError",
     "evalue": "name 'maListe' is not defined",
     "output_type": "error",
     "traceback": [
      "\u001b[1;31m---------------------------------------------------------------------------\u001b[0m",
      "\u001b[1;31mNameError\u001b[0m                                 Traceback (most recent call last)",
      "Cell \u001b[1;32mIn[3], line 3\u001b[0m\n\u001b[0;32m      1\u001b[0m \u001b[38;5;66;03m# NB. Ne faites pas ça\u001b[39;00m\n\u001b[0;32m      2\u001b[0m i \u001b[38;5;241m=\u001b[39m \u001b[38;5;241m0\u001b[39m\n\u001b[1;32m----> 3\u001b[0m \u001b[38;5;28;01mwhile\u001b[39;00m i \u001b[38;5;241m<\u001b[39m \u001b[38;5;28mlen\u001b[39m(\u001b[43mmaListe\u001b[49m):\n\u001b[0;32m      4\u001b[0m     \u001b[38;5;28mprint\u001b[39m(maListe[i])\n\u001b[0;32m      5\u001b[0m     i \u001b[38;5;241m=\u001b[39m i\u001b[38;5;241m+\u001b[39m\u001b[38;5;241m1\u001b[39m\n",
      "\u001b[1;31mNameError\u001b[0m: name 'maListe' is not defined"
     ]
    }
   ],
   "source": [
    "# NB. Ne faites pas ça\n",
    "i = 0\n",
    "while i < len(maListe):\n",
    "    print(maListe[i])\n",
    "    i = i+1"
   ]
  },
  {
   "cell_type": "code",
   "execution_count": null,
   "id": "213a1d04",
   "metadata": {
    "scrolled": true
   },
   "outputs": [],
   "source": [
    "# mais ça\n",
    "for e in maListe:\n",
    "    print(e)"
   ]
  },
  {
   "cell_type": "markdown",
   "id": "283eb3ab",
   "metadata": {
    "slideshow": {
     "slide_type": "slide"
    }
   },
   "source": [
    "# Dictionnaires\n",
    "Tableau associatif (clé, valeur), où les clés peuvent être de n'importe quel type"
   ]
  },
  {
   "cell_type": "code",
   "execution_count": null,
   "id": "a013acaf",
   "metadata": {},
   "outputs": [],
   "source": [
    "placard = {'chemises': 5, 'chaussettes':7}\n",
    "placard"
   ]
  },
  {
   "cell_type": "code",
   "execution_count": null,
   "id": "1760d120",
   "metadata": {},
   "outputs": [],
   "source": [
    "placard['pantalon'] = 2\n",
    "placard"
   ]
  },
  {
   "cell_type": "code",
   "execution_count": null,
   "id": "b321f84e",
   "metadata": {},
   "outputs": [],
   "source": [
    "# Combien de chausettes?\n",
    "placard['chaussettes']"
   ]
  },
  {
   "cell_type": "markdown",
   "id": "5a97f0c4",
   "metadata": {
    "slideshow": {
     "slide_type": "subslide"
    }
   },
   "source": [
    "# Itération sur dictionnaires"
   ]
  },
  {
   "cell_type": "code",
   "execution_count": null,
   "id": "dd6b2458",
   "metadata": {},
   "outputs": [],
   "source": [
    "for e in placard.keys():\n",
    "    print(e)"
   ]
  },
  {
   "cell_type": "code",
   "execution_count": null,
   "id": "6da11b68",
   "metadata": {},
   "outputs": [],
   "source": [
    "for val in placard.values():\n",
    "    print(val)"
   ]
  },
  {
   "cell_type": "code",
   "execution_count": null,
   "id": "ad4fce4d",
   "metadata": {},
   "outputs": [],
   "source": [
    "for key, val in placard.items():\n",
    "    print(\"J'ai {} {}\".format(val, key))"
   ]
  },
  {
   "cell_type": "markdown",
   "id": "7fb7e141",
   "metadata": {
    "slideshow": {
     "slide_type": "slide"
    }
   },
   "source": [
    "# Tableaux (Arrays)"
   ]
  },
  {
   "cell_type": "markdown",
   "id": "77a0fffe",
   "metadata": {},
   "source": [
    "C'est ce qu'on préférera utiliser pour les matrices car les opérations sur les matrices sont possibles entre deux arrays"
   ]
  },
  {
   "cell_type": "code",
   "execution_count": 83,
   "id": "82d01753",
   "metadata": {},
   "outputs": [
    {
     "data": {
      "text/plain": [
       "array([ 3,  6,  9, 12])"
      ]
     },
     "execution_count": 83,
     "metadata": {},
     "output_type": "execute_result"
    }
   ],
   "source": [
    "import numpy as np\n",
    "x = np.array([3, 6, 9, 12])\n",
    "x"
   ]
  },
  {
   "cell_type": "code",
   "execution_count": null,
   "id": "37540eee",
   "metadata": {},
   "outputs": [],
   "source": [
    "np.append(x,15)"
   ]
  },
  {
   "cell_type": "code",
   "execution_count": null,
   "id": "2026a71b",
   "metadata": {},
   "outputs": [],
   "source": [
    "np.insert(x, 3, 12)"
   ]
  },
  {
   "cell_type": "code",
   "execution_count": null,
   "id": "bf159ca3",
   "metadata": {},
   "outputs": [],
   "source": [
    "np.delete(x,3) # détruire l'élément à l'adresse 3"
   ]
  },
  {
   "cell_type": "code",
   "execution_count": 95,
   "id": "49ad950e",
   "metadata": {},
   "outputs": [
    {
     "name": "stdout",
     "output_type": "stream",
     "text": [
      "1 6\n",
      "[[ 2  4  6]\n",
      " [ 8 10 12]]\n",
      "[[ 1  4  9]\n",
      " [16 25 36]]\n"
     ]
    },
    {
     "data": {
      "text/plain": [
       "array([[ 3,  6],\n",
       "       [ 9, 15]])"
      ]
     },
     "execution_count": 95,
     "metadata": {},
     "output_type": "execute_result"
    }
   ],
   "source": [
    "maNouvelleMatrice = np.array([[1,2,3],[4,5,6]])\n",
    "print(maNouvelleMatrice[0,0], maNouvelleMatrice[-1,-1])\n",
    "print(maNouvelleMatrice + maNouvelleMatrice) #les opérations usuelles sur les matrices sont possibles\n",
    "print(maNouvelleMatrice*maNouvelleMatrice) #multiplication éléments par éléments\n",
    "np.dot(maNouvelleMatrice,np.array([[1,1],[1,1],[0,1]])) #multiplication interne"
   ]
  },
  {
   "cell_type": "markdown",
   "id": "29b4569c",
   "metadata": {
    "slideshow": {
     "slide_type": "slide"
    }
   },
   "source": [
    "# Fichiers"
   ]
  },
  {
   "cell_type": "code",
   "execution_count": 111,
   "id": "fcf9706b",
   "metadata": {},
   "outputs": [],
   "source": [
    "fichier = open(\"fichier.txt\", 'r')\n",
    "# lire les données dans le fichier\n",
    "fichier.close()"
   ]
  },
  {
   "cell_type": "markdown",
   "id": "4b3e8dd2",
   "metadata": {},
   "source": [
    "Modes d'ouverture:\n",
    "* `'r'`: lecture (read)\n",
    "* `'w'`: écriture (write) [détruit les contenus du fichier!]\n",
    "* `'a'`: ajout (append)"
   ]
  },
  {
   "cell_type": "markdown",
   "id": "01cc7379",
   "metadata": {
    "slideshow": {
     "slide_type": "subslide"
    }
   },
   "source": [
    "# Lecture de fichiers"
   ]
  },
  {
   "cell_type": "code",
   "execution_count": 109,
   "id": "7aafedb3",
   "metadata": {},
   "outputs": [
    {
     "data": {
      "text/plain": [
       "(['pi', '3.141528,'], ['=', \"c'est\"])"
      ]
     },
     "execution_count": 109,
     "metadata": {},
     "output_type": "execute_result"
    }
   ],
   "source": [
    "x = []\n",
    "y = []\n",
    "with open(\"fichier.txt\", 'r') as fichier:\n",
    "    # lire les données dans le fichier\n",
    "    for line in fichier:\n",
    "        words = line.split()\n",
    "        x.append((words[0]))\n",
    "        y.append((words[1]))\n",
    "\n",
    "x, y"
   ]
  },
  {
   "cell_type": "markdown",
   "id": "20c85c5e",
   "metadata": {
    "slideshow": {
     "slide_type": "subslide"
    }
   },
   "source": [
    "# Écriture de fichiers"
   ]
  },
  {
   "cell_type": "code",
   "execution_count": 107,
   "id": "4ab86f53",
   "metadata": {},
   "outputs": [],
   "source": [
    "pi = 3.141528\n",
    "with open(\"fichier.txt\", 'w') as fichier:\n",
    "    fichier.write(\"pi = \\n\")\n",
    "    fichier.write(f\"{pi}, c'est pi\")"
   ]
  },
  {
   "cell_type": "markdown",
   "id": "a6a29001",
   "metadata": {},
   "source": [
    "NB. `write` n'accepte que des chaînes de caractères"
   ]
  },
  {
   "cell_type": "markdown",
   "id": "03b3d34f",
   "metadata": {
    "slideshow": {
     "slide_type": "slide"
    }
   },
   "source": [
    "# Graphes\n",
    "Utilisation de la librairie Matplotlib"
   ]
  },
  {
   "cell_type": "code",
   "execution_count": 99,
   "id": "c7200262",
   "metadata": {},
   "outputs": [
    {
     "data": {
      "image/png": "[encoded data removed]",
      "text/plain": [
       "<Figure size 640x480 with 1 Axes>"
      ]
     },
     "metadata": {},
     "output_type": "display_data"
    },
    {
     "data": {
      "text/plain": [
       "<Figure size 640x480 with 0 Axes>"
      ]
     },
     "metadata": {},
     "output_type": "display_data"
    }
   ],
   "source": [
    "import matplotlib.pyplot as plt\n",
    "\n",
    "fig = plt.figure()\n",
    "plt.plot([1,2,3,4], [1,4,9,16], 'r^')\n",
    "plt.plot([1,2,3,4], [2,6,10,12], 'bo')\n",
    "plt.axis([0,6,0,20])\n",
    "\n",
    "plt.xlabel(\"Axe x\")\n",
    "plt.ylabel(\"Axe y\")\n",
    "plt.title(\"Un titre original\")\n",
    "\n",
    "plt.show()\n",
    "plt.savefig(\"plot.png\")"
   ]
  },
  {
   "cell_type": "markdown",
   "id": "7149601f",
   "metadata": {
    "slideshow": {
     "slide_type": "subslide"
    }
   },
   "source": [
    "# Graphes: Exemple avancé"
   ]
  },
  {
   "cell_type": "code",
   "execution_count": 98,
   "id": "4e37b221",
   "metadata": {},
   "outputs": [
    {
     "data": {
      "image/png": "[encoded data removed]",
      "text/plain": [
       "<Figure size 640x480 with 2 Axes>"
      ]
     },
     "metadata": {},
     "output_type": "display_data"
    }
   ],
   "source": [
    "import matplotlib.pyplot as plt\n",
    "\n",
    "def f(x):\n",
    "    return np.exp(-x) * np.cos(2*np.pi*x)\n",
    "\n",
    "x1 = np.arange(0.0, 5.0, 0.1)\n",
    "x2 = np.arange(0.0, 5.0, 0.02)\n",
    "\n",
    "plt.subplot(211)\n",
    "plt.plot(x1, f(x1), 'bo', x2, f(x2), 'k')\n",
    "\n",
    "plt.subplot(212)\n",
    "plt.plot(x2, np.cos(2*np.pi*x2), 'r--')\n",
    "\n",
    "plt.show()"
   ]
  }
 ],
 "metadata": {
  "celltoolbar": "Slideshow",
  "kernelspec": {
   "display_name": "Python 3",
   "language": "python",
   "name": "python3"
  },
  "language_info": {
   "codemirror_mode": {
    "name": "ipython",
    "version": 3
   },
   "file_extension": ".py",
   "mimetype": "text/x-python",
   "name": "python",
   "nbconvert_exporter": "python",
   "pygments_lexer": "ipython3",
   "version": "3.13.0"
  }
 },
 "nbformat": 4,
 "nbformat_minor": 5
}
